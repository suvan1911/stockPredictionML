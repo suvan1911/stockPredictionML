{
  "cells": [
    {
      "cell_type": "code",
      "execution_count": null,
      "metadata": {
        "colab": {
          "base_uri": "https://localhost:8080/",
          "height": 424
        },
        "id": "ngaaWlFV2Iaf",
        "outputId": "7019d4d1-118a-4bfc-e3c4-650fddc1d792"
      },
      "outputs": [],
      "source": [
        "import pandas as pd\n",
        "import numpy as np\n",
        "\n",
        "df = pd.read_csv('training_data.csv')\n",
        "NUM_STOCKS = len(df)\n",
        "ORIGINAL_NUM_DAYS = len(df.iloc[0]) - 1\n",
        "batch = 50\n",
        "# last_day = ORIGINAL_NUM_DAYS  - (ORIGINAL_NUM_DAYS %  batch)\n",
        "\n",
        "df.pop('ticker')\n",
        "df = df.T\n",
        "df"
      ]
    },
    {
      "cell_type": "code",
      "execution_count": null,
      "metadata": {
        "id": "uUcGwcnh4Z0F"
      },
      "outputs": [],
      "source": [
        "import matplotlib.pyplot as plt\n"
      ]
    },
    {
      "cell_type": "code",
      "execution_count": null,
      "metadata": {
        "colab": {
          "base_uri": "https://localhost:8080/"
        },
        "id": "rmIYYFyNGx9B",
        "outputId": "07e1c4a1-6f17-4fe0-a977-69f5133fd842"
      },
      "outputs": [],
      "source": [
        "from sklearn.preprocessing import MinMaxScaler\n",
        "\n",
        "main = []\n",
        "for i in range(84):\n",
        "  main.append(df.filter([i]).values)\n",
        "\n",
        "main"
      ]
    },
    {
      "cell_type": "code",
      "execution_count": null,
      "metadata": {
        "colab": {
          "base_uri": "https://localhost:8080/"
        },
        "id": "GCYuP1d-HpsI",
        "outputId": "a7119498-59dc-476e-f76a-cd3fc8245c84"
      },
      "outputs": [],
      "source": [
        "X,y = [],[]\n",
        "for stock in main:\n",
        "  for i in range(batch,ORIGINAL_NUM_DAYS):\n",
        "    X.append(stock[i-batch:i,0])\n",
        "    y.append(stock[i,0])\n",
        "X = np.array(X)\n",
        "X=X.reshape((X.shape[0],X.shape[1],1))\n",
        "\n",
        "y = np.array(y)\n",
        "\n",
        "X.shape, y.shape"
      ]
    },
    {
      "cell_type": "code",
      "execution_count": null,
      "metadata": {
        "colab": {
          "base_uri": "https://localhost:8080/"
        },
        "id": "1oFpaKsvfn_G",
        "outputId": "0adddf4f-867c-4837-c498-cca9718e3d5b"
      },
      "outputs": [],
      "source": [
        "from sklearn.model_selection import train_test_split\n",
        "X_train, X_rem, y_train, y_rem = train_test_split(X,y, train_size=0.8)\n",
        "test_size = 0.5\n",
        "X_valid, X_test, y_valid, y_test = train_test_split(X_rem,y_rem, test_size=0.5)\n",
        "\n",
        "X_train.shape"
      ]
    },
    {
      "cell_type": "code",
      "execution_count": null,
      "metadata": {
        "colab": {
          "base_uri": "https://localhost:8080/",
          "height": 415
        },
        "id": "mjCEIYrM79bg",
        "outputId": "1e3bb926-ec22-4cd1-fa4c-1d4db7d04fb6"
      },
      "outputs": [],
      "source": [
        "from tensorflow.keras.models import Sequential\n",
        "from tensorflow.keras.optimizers import Adam\n",
        "from tensorflow.keras.layers import LSTM,Dropout,Dense,Input\n",
        "\n",
        "model = Sequential([Input((batch,1)),\n",
        "                    LSTM(50),\n",
        "                    Dense(32, activation = 'relu'),\n",
        "                    Dense(32, activation = 'relu'),\n",
        "                    Dense(1)])\n",
        "\n",
        "model.compile(loss='mse', optimizer='adam', metrics=['mean_absolute_error'])\n",
        "\n",
        "model.fit(X_train,y_train, validation_data=(X_valid,y_valid), epochs=5)\n",
        "\n",
        "\n"
      ]
    },
    {
      "cell_type": "code",
      "execution_count": null,
      "metadata": {
        "id": "o8DYXsaTLfJ4"
      },
      "outputs": [],
      "source": [
        "predictions = model.predict(X_test)"
      ]
    },
    {
      "cell_type": "code",
      "execution_count": null,
      "metadata": {
        "id": "Y0TG1EpP6FyC"
      },
      "outputs": [],
      "source": [
        "from sklearn.metrics import mean_squared_error\n",
        "\n",
        "rms = mean_squared_error(y_test, predictions, squared=False)\n",
        "rms"
      ]
    },
    {
      "cell_type": "code",
      "execution_count": null,
      "metadata": {
        "id": "K5U8zaOSkrFj"
      },
      "outputs": [],
      "source": [
        "xdf = pd.DataFrame()\n",
        "xdf['actual'] = y_test[234:632]\n",
        "xdf['prediction'] = predictions[234:632]\n",
        "\n",
        "plt.figure(figsize = (16,8))\n",
        "plt.plot(xdf[['actual','prediction']])\n",
        "plt.legend(['actual', 'pred'])\n",
        "\n",
        "plt.show()\n"
      ]
    },
    {
      "cell_type": "code",
      "execution_count": null,
      "metadata": {
        "id": "yA83zhWv84pE"
      },
      "outputs": [],
      "source": [
        "xdf"
      ]
    },
    {
      "cell_type": "code",
      "execution_count": null,
      "metadata": {
        "id": "ePgGFCwuBd7G"
      },
      "outputs": [],
      "source": [
        "model.save('model', save_format=\"h5\")"
      ]
    }
  ],
  "metadata": {
    "colab": {
      "collapsed_sections": [],
      "provenance": []
    },
    "kernelspec": {
      "display_name": "Python 3.10.0 64-bit",
      "language": "python",
      "name": "python3"
    },
    "language_info": {
      "codemirror_mode": {
        "name": "ipython",
        "version": 3
      },
      "file_extension": ".py",
      "mimetype": "text/x-python",
      "name": "python",
      "nbconvert_exporter": "python",
      "pygments_lexer": "ipython3",
      "version": "3.10.0"
    },
    "vscode": {
      "interpreter": {
        "hash": "f961cc0e8137de6389d72d8dc911331d973eb9bdf8f07a7d04f539a208e6a67a"
      }
    }
  },
  "nbformat": 4,
  "nbformat_minor": 0
}
